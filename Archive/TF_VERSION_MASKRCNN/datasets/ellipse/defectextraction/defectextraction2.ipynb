{
 "cells": [
  {
   "cell_type": "code",
   "execution_count": 1,
   "metadata": {},
   "outputs": [],
   "source": [
    "imagefolder = '/u/y/u/yuhanl/Downloads/NextGenMaskRCNN-master/code/datasets/balloon/Data3TypesYminXminYmaxXmax5/images/BF X500K, 05 (3).jpg'\n",
    "root = '/u/y/u/yuhanl/Downloads/NextGenMaskRCNN-master/code/datasets/balloon/Data3TypesYminXminYmaxXmax5'"
   ]
  },
  {
   "cell_type": "code",
   "execution_count": 2,
   "metadata": {},
   "outputs": [
    {
     "name": "stderr",
     "output_type": "stream",
     "text": [
      "/u/y/u/yuhanl/anaconda3/lib/python3.6/site-packages/h5py/__init__.py:36: FutureWarning: Conversion of the second argument of issubdtype from `float` to `np.floating` is deprecated. In future, it will be treated as `np.float64 == np.dtype(float).type`.\n",
      "  from ._conv import register_converters as _register_converters\n"
     ]
    }
   ],
   "source": [
    "import chainer\n",
    "from chainercv import utils\n",
    "from chainercv import transforms\n",
    "import os\n",
    "import numpy as np\n",
    "from skimage import exposure, morphology, measure, draw\n",
    "import json"
   ]
  },
  {
   "cell_type": "code",
   "execution_count": 3,
   "metadata": {},
   "outputs": [],
   "source": [
    "img = utils.read_image(imagefolder,color=True)\n",
    "imagename = \"BF X500K, 05 (3)\"\n",
    "bbs_file = os.path.join(root, 'bounding_boxes', imagename+'.txt')\n",
    "bbs = np.stack([line.strip().split() for line in open(bbs_file)]).astype(np.float32)\n",
    "label = np.stack([0]*bbs.shape[0]).astype(np.int32)\n",
    "\n"
   ]
  },
  {
   "cell_type": "code",
   "execution_count": 4,
   "metadata": {},
   "outputs": [],
   "source": [
    "\n",
    "def watershed_image(img,flag):\n",
    "    \"\"\"\n",
    "    use watershed flooding algorithm to extract the loop contour\n",
    "    :param img: type(numpy.ndarray) image in CHW format\n",
    "    :return: type(numpy.ndarray) image in HW format\n",
    "    \"\"\"\n",
    "    img_gray = img[1,:,:]\n",
    "    h, w = img_gray.shape\n",
    "    img1 = exposure.equalize_hist(img_gray)\n",
    "    #print(img1.shape)\n",
    "    # invert the image\n",
    "    #print(\"====================\")\n",
    "    #print(np.max(img1).shape)\n",
    "    img2 = np.max(img1) - img1\n",
    "    #print(\"====================\")\n",
    "    #print(img2.shape)\n",
    "    inner = np.zeros((h, w), np.bool)\n",
    "    \n",
    "\n",
    "    centroid = [round(a) for a in findCentroid(img2)]\n",
    "    inner[centroid[0], centroid[1]] = 1\n",
    "    min_size = round((h + w) / 20)\n",
    "    kernel = morphology.disk(min_size)\n",
    "    inner = morphology.dilation(inner, kernel)\n",
    "\n",
    "    out = np.zeros((h,w), np.bool)\n",
    "    out[0, 0] = 1\n",
    "    out[h - 1, 0] = 1\n",
    "    out[0, w - 1] = 1\n",
    "    out[h - 1, w - 1] = 1\n",
    "    out = morphology.dilation(out, kernel)\n",
    "    out[0, :] = 1\n",
    "    out[h - 1, :] = 1\n",
    "    out[:, w - 1] = 1\n",
    "    out[:, 0] = 1\n",
    "    markers = np.zeros((h, w), np.int)\n",
    "    if flag == 1:\n",
    "        markers[out] = 1   \n",
    "    else:\n",
    "        markers = np.zeros((h, w), np.int)\n",
    "        markers[inner] = 2\n",
    "        markers[out] = 1\n",
    "\n",
    "    labels = morphology.watershed(img2, markers)\n",
    "    \n",
    "\n",
    "    return labels"
   ]
  },
  {
   "cell_type": "code",
   "execution_count": 5,
   "metadata": {},
   "outputs": [],
   "source": [
    "def flood_fitting(img,flag):\n",
    "    \"\"\"\n",
    "    Use watershed flooding algorithm and regional property analysis\n",
    "    to output the fitted ellipse parameters\n",
    "    :param img: (numpy.ndarray) image in CHW format\n",
    "    :return: region property, where property can be accessed through attributes\n",
    "            example:\n",
    "            area, bbox, centroid, major_axis_length, minor_axis_length, orientation\n",
    "    \"\"\"\n",
    "    labels = watershed_image(img,flag)\n",
    "    if flag == 1:\n",
    "        results = measure.regionprops(labels)\n",
    "    else:\n",
    "        results = measure.regionprops(labels - 1)\n",
    "    \n",
    "    sorted(results, key=lambda k: k['area'],reverse=True)\n",
    "    # return the one with largest area\n",
    "    return results[0]"
   ]
  },
  {
   "cell_type": "code",
   "execution_count": 6,
   "metadata": {},
   "outputs": [],
   "source": [
    "def cropImage(img, bboxes, expand=True):\n",
    "    \"\"\"crop images by the given bounding boxes.\n",
    "\n",
    "    Args:\n",
    "        img (numpy.ndarray): image in CHW format\n",
    "        bboxes (numpy.ndarray): bounding boxes in the format specified by chainerCV\n",
    "        expand (bool): whether to expand the bounding boxes or not\n",
    "\n",
    "    Returns:\n",
    "        a batch of cropped image in CHW format\n",
    "        The image is in CHW format and its color channel is ordered in\n",
    "        RGB.\n",
    "\n",
    "    Return type: list\n",
    "\n",
    "    \"\"\"\n",
    "\n",
    "    if expand:\n",
    "        _, H, W = img.shape\n",
    "        bboxes = expand_bbox(bboxes, H, W)\n",
    "\n",
    "    subimages = list()\n",
    "    for bbox in bboxes:\n",
    "        bbox = bbox.astype(np.int)\n",
    "        subimages.append(img[:, bbox[1]:bbox[3]+1, bbox[2]:bbox[4]+1])\n",
    "    return subimages, bboxes\n",
    "\n",
    "def expand_bbox(bbox, H, W):\n",
    "    \"\"\"\n",
    "    expand the bounding box within the range of height and width of the image\n",
    "    :param bbox: numpy.ndarray bounding box N by 4\n",
    "    :param H: int Height of the image\n",
    "    :param W: int Width of the image\n",
    "    :return: numpy.ndarray expanded bounding box\n",
    "    \"\"\"\n",
    "    b_label = np.zeros(bbox[:, 0].shape)\n",
    "    b_height = 0.15*(bbox[:, 3] - bbox[:, 1])\n",
    "    b_width = 0.15*(bbox[:, 4] - bbox[:, 2])\n",
    "    b_height[b_height < 7] = 7\n",
    "    b_width[b_width < 7] = 7\n",
    "    adjust = np.array((b_label, -b_height, -b_width, b_height, b_width)).transpose()\n",
    "    new_bbox = bbox + adjust\n",
    "    new_bbox[new_bbox < 0] = 0\n",
    "    new_bbox[new_bbox[:, 3] >= H, 3] = H - 1\n",
    "    new_bbox[new_bbox[:, 4] >= W, 4] = W - 1\n",
    "\n",
    "    return new_bbox\n",
    "\n",
    "def findCentroid(img):\n",
    "    \"\"\"\n",
    "    find the centroid position of a image by weighted method\n",
    "    :param img: (numpy.ndarray) image in HW format\n",
    "    :return: (tuple) (y,x) coordinates of the centroid\n",
    "    \"\"\"\n",
    "    h, w = img.shape\n",
    "    # TODO: add weighted method later\n",
    "    return h/2, w/2"
   ]
  },
  {
   "cell_type": "code",
   "execution_count": 12,
   "metadata": {},
   "outputs": [],
   "source": [
    "def load_mask(self, image_id):\n",
    "        \"\"\"Generate instance masks for an image.\n",
    "       Returns:\n",
    "        masks: A bool array of shape [height, width, instance count] with\n",
    "            one mask per instance.\n",
    "        class_ids: a 1D array of class IDs of the instance masks.\n",
    "        \"\"\"\n",
    "        image_info = self.image_info[image_id]\n",
    "        if image_info[\"source\"] != \"balloon\":\n",
    "            return super(self.__class__, self).load_mask(image_id)\n",
    "\n",
    "            # Convert polygons to a bitmap mask of shape\n",
    "            # [height, width, instance_count]\n",
    "        info = self.image_info[image_id]\n",
    "        mask = np.zeros([info[\"height\"], info[\"width\"], len(info[\"polygons\"])],\n",
    "                            dtype=np.uint8)\n",
    "        for i, p in enumerate(info[\"polygons\"]):\n",
    "                # Get indexes of pixels inside the polygon and set them to 1\n",
    "            rr, cc = skimage.draw.polygon(p['all_points_y'], p['all_points_x'])\n",
    "            mask[rr, cc, i] = 1\n",
    "\n",
    "            # Return mask, and array of class IDs of each instance. Since we have\n",
    "            # one class ID only, we return an array of 1s\n",
    "        return mask.astype(np.bool), np.ones([mask.shape[-1]], dtype=np.int32)"
   ]
  },
  {
   "cell_type": "code",
   "execution_count": 13,
   "metadata": {},
   "outputs": [
    {
     "name": "stderr",
     "output_type": "stream",
     "text": [
      "/u/y/u/yuhanl/anaconda3/lib/python3.6/site-packages/skimage/measure/_regionprops.py:250: UserWarning: regionprops and image moments (including moments, normalized moments, central moments, and inertia tensor) of 2D images will change from xy coordinates to rc coordinates in version 0.16.\n",
      "See http://scikit-image.org/docs/0.14.x/release_notes_and_installation.html#deprecations for details on how to avoid this message.\n",
      "  warn(XY_TO_RC_DEPRECATION_MESSAGE)\n",
      "/u/y/u/yuhanl/anaconda3/lib/python3.6/site-packages/skimage/measure/_regionprops.py:260: UserWarning: regionprops and image moments (including moments, normalized moments, central moments, and inertia tensor) of 2D images will change from xy coordinates to rc coordinates in version 0.16.\n",
      "See http://scikit-image.org/docs/0.14.x/release_notes_and_installation.html#deprecations for details on how to avoid this message.\n",
      "  warn(XY_TO_RC_DEPRECATION_MESSAGE)\n"
     ]
    }
   ],
   "source": [
    "bboxes = bbs\n",
    "All_Image_Defects_List = list()\n",
    "subimages, bboxes = cropImage(img, bboxes)\n",
    "current_img_defect_List = list()\n",
    "defects_Dict = dict()\n",
    "defects_X_List = list()\n",
    "defects_Y_List = list()\n",
    "for subim, bbox in zip(subimages, bboxes):\n",
    "    region1 = flood_fitting(subim,bbox[0])\n",
    "\n",
    "    result = (int(region1['centroid'][0]+bbox[1]), int(region1['centroid'][1]+bbox[2]),\n",
    "                        int(region1['minor_axis_length'] / 2), int(region1['major_axis_length'] / 2),\n",
    "                        -region1['orientation'])\n",
    "    rr,cc = draw.ellipse_perimeter(*result)\n",
    "\n",
    "    assert len(rr) == len(cc)\n",
    "    for i in range(len(cc)):\n",
    "        defects_X_List.append(cc[i])\n",
    "        defects_Y_List.append(rr[i])\n",
    "    defects_Dict['X'] = defects_X_List\n",
    "    defects_Dict['Y'] = defects_Y_List\n",
    "    current_img_defect_List.append(defects_Dict)\n",
    "All_Image_Defects_List.append(current_img_defect_List)"
   ]
  },
  {
   "cell_type": "code",
   "execution_count": 15,
   "metadata": {},
   "outputs": [],
   "source": [
    "with open(\"via_region_data.json\",\"w+\") as jsonfile:\n",
    "    each_file = dict()\n",
    "    for i in range(len(All_Image_Defects_List)):\n",
    "        img_i = All_Image_Defects_List[i]\n",
    "        file_size = os.path.getsize(imagefolder)\n",
    "        filename_size = imagename + str(file_size)\n",
    "        each_file[filename_size] = {'fileref':\"\",'size':file_size,'filename':imagename}\n",
    "        each_file[filename_size].update({'base64_img_data':\"\",'file_attributes':{},'regions':{}})\n",
    "        each_bbox = each_file[filename_size]['regions']\n",
    "        for j in range(len(img_i)):\n",
    "            each_bbox.update({str(j):{'shape_attributes':{},'region_attributes':{}}})\n",
    "            each_bbox[str(j)]['shape_attributes'] = {'name':\"polygon\"}\n",
    "            each_bbox[str(j)]['shape_attributes'].update({'all_points_x':[],'all_points_y':[]})\n",
    "            each_bbox[str(j)]['shape_attributes']['all_points_x'] = np.asarray(img_i[j]['X']).tolist()#int64Toint32(img_i[j]['X'])\n",
    "            each_bbox[str(j)]['shape_attributes']['all_points_y'] = np.asarray(img_i[j]['Y']).tolist()#int64Toint32(img_i[j]['Y'])\n",
    "\n",
    "    json.dump(each_file,jsonfile)"
   ]
  },
  {
   "cell_type": "code",
   "execution_count": null,
   "metadata": {},
   "outputs": [],
   "source": [
    "config = balloon.BalloonConfig()\n",
    "BALLOON_DIR = os.path.join(ROOT_DIR, \"datasets/balloon\")\n"
   ]
  },
  {
   "cell_type": "code",
   "execution_count": null,
   "metadata": {},
   "outputs": [],
   "source": []
  }
 ],
 "metadata": {
  "kernelspec": {
   "display_name": "Python 3",
   "language": "python",
   "name": "python3"
  },
  "language_info": {
   "codemirror_mode": {
    "name": "ipython",
    "version": 3
   },
   "file_extension": ".py",
   "mimetype": "text/x-python",
   "name": "python",
   "nbconvert_exporter": "python",
   "pygments_lexer": "ipython3",
   "version": "3.6.4"
  }
 },
 "nbformat": 4,
 "nbformat_minor": 2
}
