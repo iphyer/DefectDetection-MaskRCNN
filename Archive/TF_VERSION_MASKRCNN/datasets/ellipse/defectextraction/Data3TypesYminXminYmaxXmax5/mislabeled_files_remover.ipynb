{
 "cells": [
  {
   "cell_type": "code",
   "execution_count": 2,
   "metadata": {},
   "outputs": [
    {
     "name": "stdout",
     "output_type": "stream",
     "text": [
      "['200kV_500kx_p2nm_8cmCL_grain1_0068 - Copy missing results file.', '200kV_500kx_p2nm_8cmCL_grain1_0072 - Copy missing results file.', '5ROI_100kx_4100CL_foil1 copy missing results file.']\n"
     ]
    }
   ],
   "source": [
    "import os\n",
    "\n",
    "# filenamesjpgs.txt contains a list of JPG files in \n",
    "# the 'images' directory (without the JPG extension at the end).\n",
    "# To generate filenamesjpgs.txt using Terminal:\n",
    "# 1. Navigate to 'images' directory.\n",
    "# 2. Run the following command: ls -1 | sed -e 's/\\.jpg$//' > ../filenamesjpgs.txt\n",
    "jpgs = [line.rstrip() for line in open('filenamesjpgs.txt')]\n",
    "\n",
    "# filenameslogs.txt contains a list of TXT files in\n",
    "# the 'logs' directory (without the TXT extension at the end).\n",
    "# To generate file using Terminal:\n",
    "# 1. Navigate to 'logs' directory.\n",
    "# 2. Run the following command: ls -1 | sed -e 's/\\.txt$//' > ../filenameslogs.txt\n",
    "logs = [line.rstrip() for line in open('filenameslogs.txt')]\n",
    "for i in range(len(logs)):\n",
    "    logs[i] = logs[i][:-4] # Deletes '_log' suffix for each filename\n",
    "\n",
    "# filenamesresults.txt contains a list of CSV files in\n",
    "# the 'results' directory (without the CSV extension at the end).\n",
    "# To generate file using Terminal:\n",
    "# 1. Navigate to 'results' directory.\n",
    "# 2. Run the following command: ls -1 | sed -e 's/\\.csv$//' > ../filenamesresults.txt\n",
    "results = [line.rstrip() for line in open('filenamesresults.txt')]\n",
    "for i in range(len(results)):\n",
    "    results[i] = results[i][:-8] # Deletes '_results' suffix for each filename\n",
    "\n",
    "filenames = []\n",
    "error_files = []\n",
    "\n",
    "# This part checks if for every image there exists a \n",
    "# corresponding log and result file\n",
    "for f in jpgs:\n",
    "    if f in logs and f in results:\n",
    "        filenames.append(f)\n",
    "    elif f not in logs:\n",
    "        error_files.append(f + \" missing log file.\")\n",
    "    elif f not in results:\n",
    "        error_files.append(f + \" missing results file.\")\n",
    "    else:\n",
    "        error_files.append(f + \" invalid.\")\n",
    "\n",
    "# Save an output file filenames.txt with valid filenames.\n",
    "if os.path.isfile('./filenames.txt'):\n",
    "    print(\"Delete filenames.txt and rerun script.\")\n",
    "else:\n",
    "    output_file = open('filenames.txt', \"w+\")\n",
    "    for f in filenames:\n",
    "        print(f, file=output_file)\n",
    "output_file.close()\n",
    "\n",
    "# Save an output file invalid_filenames.txt with invalid filenames.\n",
    "if os.path.isfile('./invalid_filenames.txt'):\n",
    "    print(\"Delete invalid_filenames.txt and rerun script.\")\n",
    "else:\n",
    "    output_file = open('invalid_filenames.txt', \"w+\")\n",
    "    for f in error_files:\n",
    "        print(f, file=output_file)\n",
    "output_file.close()"
   ]
  },
  {
   "cell_type": "code",
   "execution_count": null,
   "metadata": {},
   "outputs": [],
   "source": []
  }
 ],
 "metadata": {
  "kernelspec": {
   "display_name": "Python 3",
   "language": "python",
   "name": "python3"
  },
  "language_info": {
   "codemirror_mode": {
    "name": "ipython",
    "version": 3
   },
   "file_extension": ".py",
   "mimetype": "text/x-python",
   "name": "python",
   "nbconvert_exporter": "python",
   "pygments_lexer": "ipython3",
   "version": "3.6.5"
  }
 },
 "nbformat": 4,
 "nbformat_minor": 2
}
