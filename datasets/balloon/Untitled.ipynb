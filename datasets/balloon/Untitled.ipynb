{
 "cells": [
  {
   "cell_type": "code",
   "execution_count": 1,
   "metadata": {},
   "outputs": [],
   "source": [
    "dirPath = '/srv/home/whao/NextGen/new_debug/run/run3/datasets/balloon/train'"
   ]
  },
  {
   "cell_type": "code",
   "execution_count": 2,
   "metadata": {},
   "outputs": [
    {
     "name": "stderr",
     "output_type": "stream",
     "text": [
      "/srv/home/whao/anaconda3/lib/python3.6/site-packages/h5py/__init__.py:36: FutureWarning: Conversion of the second argument of issubdtype from `float` to `np.floating` is deprecated. In future, it will be treated as `np.float64 == np.dtype(float).type`.\n",
      "  from ._conv import register_converters as _register_converters\n"
     ]
    }
   ],
   "source": [
    "import csv\n",
    "import matplotlib\n",
    "import pandas as pd\n",
    "import json\n",
    "import os\n",
    "import math\n",
    "import re\n",
    "from utils.postProcessing import *#img_ellipse_fitting\n",
    "from utils.imageUtils import cropImage\n",
    "from utils import imageUtils, postProcessing, DefectDetectionDataset, evaluation, visualization\n",
    "import matplotlib.pyplot as plt"
   ]
  },
  {
   "cell_type": "code",
   "execution_count": 3,
   "metadata": {},
   "outputs": [
    {
     "ename": "FileNotFoundError",
     "evalue": "[Errno 2] No such file or directory: '/srv/home/whao/NextGen/new_debug/run/run3/datasets/datasets/Loop_detection/trainimages.txt'",
     "output_type": "error",
     "traceback": [
      "\u001b[0;31m---------------------------------------------------------------------------\u001b[0m",
      "\u001b[0;31mFileNotFoundError\u001b[0m                         Traceback (most recent call last)",
      "\u001b[0;32m<ipython-input-3-c4a4db756bc3>\u001b[0m in \u001b[0;36m<module>\u001b[0;34m()\u001b[0m\n\u001b[1;32m      3\u001b[0m \u001b[0;34m\u001b[0m\u001b[0m\n\u001b[1;32m      4\u001b[0m \u001b[0mfiles\u001b[0m \u001b[0;34m=\u001b[0m \u001b[0mos\u001b[0m\u001b[0;34m.\u001b[0m\u001b[0mlistdir\u001b[0m\u001b[0;34m(\u001b[0m\u001b[0;34m'/srv/home/whao/NextGen/new_debug/run/run3/datasets/balloon/train/'\u001b[0m\u001b[0;34m)\u001b[0m\u001b[0;34m\u001b[0m\u001b[0m\n\u001b[0;32m----> 5\u001b[0;31m \u001b[0mdataset\u001b[0m \u001b[0;34m=\u001b[0m \u001b[0mDefectDetectionDataset\u001b[0m\u001b[0;34m(\u001b[0m\u001b[0mdata_dir\u001b[0m \u001b[0;34m=\u001b[0m \u001b[0mroot\u001b[0m\u001b[0;34m,\u001b[0m \u001b[0msplit\u001b[0m \u001b[0;34m=\u001b[0m \u001b[0;34m'train'\u001b[0m\u001b[0;34m)\u001b[0m\u001b[0;34m\u001b[0m\u001b[0m\n\u001b[0m\u001b[1;32m      6\u001b[0m \u001b[0;34m\u001b[0m\u001b[0m\n\u001b[1;32m      7\u001b[0m \u001b[0mAll_Image_Defects_List\u001b[0m \u001b[0;34m=\u001b[0m \u001b[0mlist\u001b[0m\u001b[0;34m(\u001b[0m\u001b[0;34m)\u001b[0m\u001b[0;34m\u001b[0m\u001b[0m\n",
      "\u001b[0;32m~/NextGen/new_debug/run/dataprep/datasets/utils/DefectDataset.py\u001b[0m in \u001b[0;36m__init__\u001b[0;34m(self, data_dir, split, img_size, resize)\u001b[0m\n\u001b[1;32m     22\u001b[0m         \u001b[0mimages_file\u001b[0m \u001b[0;34m=\u001b[0m \u001b[0mos\u001b[0m\u001b[0;34m.\u001b[0m\u001b[0mpath\u001b[0m\u001b[0;34m.\u001b[0m\u001b[0mjoin\u001b[0m\u001b[0;34m(\u001b[0m\u001b[0mself\u001b[0m\u001b[0;34m.\u001b[0m\u001b[0mdata_dir\u001b[0m\u001b[0;34m,\u001b[0m \u001b[0;34m'{}images.txt'\u001b[0m\u001b[0;34m.\u001b[0m\u001b[0mformat\u001b[0m\u001b[0;34m(\u001b[0m\u001b[0msplit\u001b[0m\u001b[0;34m)\u001b[0m\u001b[0;34m)\u001b[0m\u001b[0;34m\u001b[0m\u001b[0m\n\u001b[1;32m     23\u001b[0m         self.images = [\n\u001b[0;32m---> 24\u001b[0;31m             line.strip() for line in open(images_file)]\n\u001b[0m\u001b[1;32m     25\u001b[0m \u001b[0;34m\u001b[0m\u001b[0m\n\u001b[1;32m     26\u001b[0m     \u001b[0;32mdef\u001b[0m \u001b[0m__len__\u001b[0m\u001b[0;34m(\u001b[0m\u001b[0mself\u001b[0m\u001b[0;34m)\u001b[0m\u001b[0;34m:\u001b[0m\u001b[0;34m\u001b[0m\u001b[0m\n",
      "\u001b[0;31mFileNotFoundError\u001b[0m: [Errno 2] No such file or directory: '/srv/home/whao/NextGen/new_debug/run/run3/datasets/datasets/Loop_detection/trainimages.txt'"
     ]
    }
   ],
   "source": [
    "imagefolder = '/srv/home/whao/NextGen/new_debug/run/run3/datasets/datasets/Loop_detection/images/'\n",
    "root = '/srv/home/whao/NextGen/new_debug/run/run3/datasets/datasets/Loop_detection'\n",
    "\n",
    "files = os.listdir('/srv/home/whao/NextGen/new_debug/run/run3/datasets/balloon/train/')    \n",
    "dataset = DefectDetectionDataset(data_dir = root, split = 'train')\n",
    "\n",
    "All_Image_Defects_List = list()\n",
    "for item in range(len(dataset)):\n",
    "    img, bboxes, label = dataset[item]\n",
    "    subimages, bboxes = cropImage(img, bboxes)\n",
    "    current_img_defect_List = list()\n",
    "    for subim, bbox in zip(subimages, bboxes):\n",
    "        defects_Dict = dict()\n",
    "        defects_X_List = list()\n",
    "        defects_Y_List = list()\n",
    "        region1 = flood_fitting(subim)\n",
    "        result = (int(region1['centroid'][0]+bbox[0]), int(region1['centroid'][1]+bbox[1]),\n",
    "                    int(region1['minor_axis_length'] / 2), int(region1['major_axis_length'] / 2),\n",
    "                    -region1['orientation'])\n",
    "        rr,cc = draw.ellipse_perimeter(*result)\n",
    "        # rr is row which is x in pixel\n",
    "        # cc is column which is y in pixel\n",
    "        # (rr,cc) represents one data points and there may be redundent data points\n",
    "        assert len(rr) == len(cc)\n",
    "        flag = 0\n",
    "        for i in range(len(cc)):\n",
    "            defects_X_List.append(cc[i])\n",
    "            defects_Y_List.append(rr[i])\n",
    "            if ((cc[i] > 1024 or rr[i] > 1024) and flag == 0):\n",
    "                print(files[item])\n",
    "                flag = 1\n",
    "        # add defect's x,y corrdinates into the dictionary\n",
    "        # update dictionary\n",
    "        defects_Dict['X'] = defects_X_List\n",
    "        defects_Dict['Y'] = defects_Y_List\n",
    "        current_img_defect_List.append(defects_Dict)\n",
    "    All_Image_Defects_List.append(current_img_defect_List)"
   ]
  },
  {
   "cell_type": "code",
   "execution_count": null,
   "metadata": {},
   "outputs": [],
   "source": []
  }
 ],
 "metadata": {
  "kernelspec": {
   "display_name": "Python 3",
   "language": "python",
   "name": "python3"
  },
  "language_info": {
   "codemirror_mode": {
    "name": "ipython",
    "version": 3
   },
   "file_extension": ".py",
   "mimetype": "text/x-python",
   "name": "python",
   "nbconvert_exporter": "python",
   "pygments_lexer": "ipython3",
   "version": "3.6.4"
  }
 },
 "nbformat": 4,
 "nbformat_minor": 2
}
