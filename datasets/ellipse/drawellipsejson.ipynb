{
 "cells": [
  {
   "cell_type": "code",
   "execution_count": 24,
   "metadata": {},
   "outputs": [],
   "source": [
    "import numpy as np\n",
    "import matplotlib\n",
    "from matplotlib.patches import Ellipse\n",
    "import matplotlib.pyplot as plt\n",
    "import csv\n",
    "import json\n",
    "import os"
   ]
  },
  {
   "cell_type": "code",
   "execution_count": 25,
   "metadata": {},
   "outputs": [],
   "source": [
    "imagefolder = '/u/y/u/yuhanl/Downloads/NextGenMaskRCNN-master/code/datasets/ellipse/Data3TypesYminXminYmaxXmax5/images'\n",
    "imagename = \"0501_300kx_1nm_clhaadf3_0014.jpg\""
   ]
  },
  {
   "cell_type": "code",
   "execution_count": 26,
   "metadata": {},
   "outputs": [],
   "source": [
    "from collections import defaultdict\n",
    "All_Image_Defects_List = list()\n",
    "columns = defaultdict(list) # each value in each column is appended to a list\n",
    "current_img_defect_List = list()\n",
    "\n",
    "with open('/u/y/u/yuhanl/Downloads/0501_300kx_1nm_clhaadf3_0014_results.csv') as f:\n",
    "    reader = csv.DictReader(f) # read rows into a dictionary format\n",
    "    for row in reader: # read a row as {column1: value1, column2: value2,...}\n",
    "        for (k,v) in row.items(): # go over each column name and value \n",
    "            columns[k].append(v) # append the value into the appropriate list\n",
    "                                 # based on column name k\n",
    "x = columns['X'] #the central point coordinates\n",
    "y = columns['Y']\n",
    "a = columns['Major']\n",
    "b = columns['Minor']\n",
    "angle = columns['Angle']\n",
    "All_Image_Defects_List = list()\n",
    "current_img_defect_List = list()\n",
    "defects_Dict = dict()\n",
    "defects_X_List = list()\n",
    "defects_Y_List = list()\n",
    "for k in range(len(columns)):\n",
    "    xk = float(x[k])\n",
    "    yk = float(y[k])\n",
    "    ak = float(a[k]) \n",
    "    bk = float(b[k]) \n",
    "    anglek = float(angle[k]) * (-1)\n",
    "    defects_Dict = dict()\n",
    "    defects_X_List = list()\n",
    "    defects_Y_List = list()\n",
    "    ellipse = Ellipse([xk,yk],ak,bk,anglek)\n",
    "    vertices = ellipse.get_verts()\n",
    "    \n",
    "    x_coor = []\n",
    "    y_coor = []\n",
    "    for i in range(len(vertices)):\n",
    "        x_coor.append(vertices[i][0])\n",
    "        y_coor.append(vertices[i][1])\n",
    "\n",
    "    for i in range(len(vertices)):\n",
    "        defects_X_List.append(x_coor[i])\n",
    "        defects_Y_List.append(y_coor[i])\n",
    "        \n",
    "    defects_Dict['X'] = defects_X_List\n",
    "    defects_Dict['Y'] = defects_Y_List\n",
    "    current_img_defect_List.append(defects_Dict)\n",
    "\n",
    "All_Image_Defects_List.append(current_img_defect_List)"
   ]
  },
  {
   "cell_type": "code",
   "execution_count": 27,
   "metadata": {},
   "outputs": [],
   "source": [
    "with open(\"via_region_data.json\",\"w+\") as jsonfile:\n",
    "    with open(\"/u/y/u/yuhanl/Downloads/NextGenMaskRCNN-master/code/datasets/ellipse/Data3TypesYminXminYmaxXmax5/trainimages.txt\") as f:\n",
    "        content = f.readlines()\n",
    "    content = [x.strip() for x in content]\n",
    "    each_file = dict()\n",
    "    for i in range(len(All_Image_Defects_List)):\n",
    "        img_i = All_Image_Defects_List[i]\n",
    "        file_size = os.path.getsize(imagefolder + '/'+content[i])\n",
    "        filename_size = content[i] + str(file_size)\n",
    "        each_file[filename_size] = {'fileref':\"\",'size':file_size,'filename':content[i]}\n",
    "        each_file[filename_size].update({'base64_img_data':\"\",'file_attributes':{},'regions':{}})\n",
    "        each_bbox = each_file[filename_size]['regions']\n",
    "        for j in range(len(img_i)):\n",
    "            each_bbox.update({str(j):{'shape_attributes':{},'region_attributes':{}}})\n",
    "            each_bbox[str(j)]['shape_attributes'] = {'name':\"polygon\"}\n",
    "            each_bbox[str(j)]['shape_attributes'].update({'all_points_x':[],'all_points_y':[]})\n",
    "            each_bbox[str(j)]['shape_attributes']['all_points_x'] = np.asarray(img_i[j]['X']).tolist()\n",
    "            each_bbox[str(j)]['shape_attributes']['all_points_y'] = np.asarray(img_i[j]['Y']).tolist()\n",
    "\n",
    "    json.dump(each_file,jsonfile)"
   ]
  },
  {
   "cell_type": "code",
   "execution_count": null,
   "metadata": {},
   "outputs": [],
   "source": []
  },
  {
   "cell_type": "code",
   "execution_count": null,
   "metadata": {},
   "outputs": [],
   "source": []
  }
 ],
 "metadata": {
  "kernelspec": {
   "display_name": "Python 3",
   "language": "python",
   "name": "python3"
  },
  "language_info": {
   "codemirror_mode": {
    "name": "ipython",
    "version": 3
   },
   "file_extension": ".py",
   "mimetype": "text/x-python",
   "name": "python",
   "nbconvert_exporter": "python",
   "pygments_lexer": "ipython3",
   "version": "3.6.4"
  }
 },
 "nbformat": 4,
 "nbformat_minor": 2
}
